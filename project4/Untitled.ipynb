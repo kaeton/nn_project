{
 "cells": [
  {
   "cell_type": "code",
   "execution_count": 6,
   "metadata": {
    "collapsed": false
   },
   "outputs": [],
   "source": [
    "import numpy as np\n",
    "import matplotlib.pyplot as plt\n",
    "import matplotlib.cm as cm\n",
    "%matplotlib inline\n",
    " \n",
    "def label_cluster_num(means, mesh_points, metrics):\n",
    "    def label(point):\n",
    "        cluster_label = np.argmin(map(lambda mean: metrics(mean, point), means))\n",
    "        return point, cluster_label\n",
    "    return map(label, mesh_points)"
   ]
  },
  {
   "cell_type": "code",
   "execution_count": 7,
   "metadata": {
    "collapsed": true
   },
   "outputs": [],
   "source": [
    "c_means = np.array([[1, 2], [-3, 4], [-5, -6], [7, -8]])\n",
    "xs = np.linspace(-10, 10, 100)\n",
    "ys = np.linspace(-10, 10, 100)\n",
    "xx, yy = np.meshgrid(xs, ys)\n",
    "mesh_points = np.c_[xx.ravel(), yy.ravel()]"
   ]
  },
  {
   "cell_type": "code",
   "execution_count": 8,
   "metadata": {
    "collapsed": false
   },
   "outputs": [],
   "source": [
    "def show_volonoi_with_metrics(metrics):\n",
    "    labeled_mesh_points = label_cluster_num(c_means, mesh_points, metrics=metrics)\n",
    "    plt.figure()\n",
    "    fig, ax = plt.subplots()\n",
    " \n",
    "    ax.set_aspect('equal')\n",
    "    ax.grid(True, which='both')\n",
    "    ax.axhline(y=0, color='k')\n",
    "    ax.axvline(x=0, color='k')\n",
    "    ax.set_xlim([-10, 10])\n",
    "    ax.set_ylim([-10, 10])\n",
    " \n",
    "    for i in range(0, len(c_means)):\n",
    "        cluster_points = map(lambda (p, label): p, filter(lambda (p, label): label == i, labeled_mesh_points))\n",
    "        xs = map(lambda p: p[0], cluster_points)\n",
    "        ys = map(lambda p: p[1], cluster_points)\n",
    "        ax.scatter(xs, ys, color=cm.prism(i / float(len(c_means))), marker='.')\n",
    " \n",
    "    ax.scatter(map(lambda p: p[0], c_means), map(lambda p: p[1], c_means), color=\"g\", marker='o')\n",
    " \n",
    "    plt.show()\n",
    "    plt.savefig(\"hogehoge.png\")"
   ]
  },
  {
   "cell_type": "code",
   "execution_count": 11,
   "metadata": {
    "collapsed": false
   },
   "outputs": [
    {
     "data": {
      "text/plain": [
       "<function scipy.spatial.distance.euclidean>"
      ]
     },
     "execution_count": 11,
     "metadata": {},
     "output_type": "execute_result"
    }
   ],
   "source": [
    "import scipy.spatial.distance as dist\n",
    "#show_volonoi_with_metrics(dist.euclidean)\n",
    "dist.euclidean"
   ]
  }
 ],
 "metadata": {
  "kernelspec": {
   "display_name": "Python 2",
   "language": "python",
   "name": "python2"
  },
  "language_info": {
   "codemirror_mode": {
    "name": "ipython",
    "version": 2
   },
   "file_extension": ".py",
   "mimetype": "text/x-python",
   "name": "python",
   "nbconvert_exporter": "python",
   "pygments_lexer": "ipython2",
   "version": "2.7.13"
  }
 },
 "nbformat": 4,
 "nbformat_minor": 2
}
